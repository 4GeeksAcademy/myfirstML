{
    "cells": [
        {
            "cell_type": "markdown",
            "metadata": {},
            "source": [
                "# Explore here"
            ]
        },
        {
            "cell_type": "code",
            "execution_count": 2,
            "metadata": {},
            "outputs": [
                {
                    "name": "stdout",
                    "output_type": "stream",
                    "text": [
                        "Index(['age', 'job', 'marital', 'education', 'default', 'housing', 'loan',\n",
                        "       'contact', 'month', 'day_of_week', 'duration', 'campaign', 'pdays',\n",
                        "       'previous', 'poutcome', 'emp.var.rate', 'cons.price.idx',\n",
                        "       'cons.conf.idx', 'euribor3m', 'nr.employed', 'y'],\n",
                        "      dtype='object')\n"
                    ]
                }
            ],
            "source": [
                "import pandas as pd\n",
                "\n",
                "# Lectura del conjunto de datos especificando el delimitador correcto\n",
                "url = \"https://raw.githubusercontent.com/4GeeksAcademy/logistic-regression-project-tutorial/main/bank-marketing-campaign-data.csv\"\n",
                "data = pd.read_csv(url, delimiter=';')  # Usar ';' como delimitador para corregir el problema de las columnas\n",
                "\n",
                "# Imprimir los nombres de las columnas para verificar\n",
                "print(data.columns)\n",
                "\n"
            ]
        },
        {
            "cell_type": "markdown",
            "metadata": {},
            "source": [
                "División Conjunto Datos"
            ]
        },
        {
            "cell_type": "code",
            "execution_count": 4,
            "metadata": {},
            "outputs": [],
            "source": [
                "from sklearn.model_selection import train_test_split\n",
                "from sklearn.preprocessing import LabelEncoder\n",
                "\n",
                "# Codificar la variable objetivo 'y'\n",
                "label_encoder = LabelEncoder()\n",
                "data['y'] = label_encoder.fit_transform(data['y'])  # Transforma 'yes' en 1 y 'no' en 0\n",
                "\n",
                "# Convertir variables categóricas en variables dummy\n",
                "data = pd.get_dummies(data, drop_first=True)\n",
                "\n",
                "# Dividir los datos en conjuntos de entrenamiento y prueba\n",
                "X = data.drop('y', axis=1)\n",
                "y = data['y']\n",
                "X_train, X_test, y_train, y_test = train_test_split(X, y, test_size=0.2, random_state=42)\n",
                "\n",
                "# Alinear X_train y X_test para que ambos tengan las mismas columnas\n",
                "X_train, X_test = X_train.align(X_test, join='outer', axis=1, fill_value=0)  # Rellenar con ceros donde falten valores"
            ]
        },
        {
            "cell_type": "markdown",
            "metadata": {},
            "source": [
                "Entrenamiento Modelo"
            ]
        },
        {
            "cell_type": "code",
            "execution_count": 5,
            "metadata": {},
            "outputs": [
                {
                    "name": "stdout",
                    "output_type": "stream",
                    "text": [
                        "Modelo entrenado con éxito.\n"
                    ]
                }
            ],
            "source": [
                "from sklearn.linear_model import LogisticRegression\n",
                "\n",
                "# Crear el modelo de regresión logistica\n",
                "model = LogisticRegression(max_iter=10000, random_state=42, solver='saga')\n",
                "model.fit(X_train, y_train)\n",
                "\n",
                "print(\"Modelo entrenado con éxito.\")\n"
            ]
        },
        {
            "cell_type": "markdown",
            "metadata": {},
            "source": [
                "Predicción Modelo y Evaluación"
            ]
        },
        {
            "cell_type": "code",
            "execution_count": 6,
            "metadata": {},
            "outputs": [
                {
                    "name": "stdout",
                    "output_type": "stream",
                    "text": [
                        "Precisión del modelo: 0.91\n",
                        "Matriz de confusión:\n",
                        " [[7125  178]\n",
                        " [ 575  360]]\n",
                        "Reporte de clasificación:\n",
                        "               precision    recall  f1-score   support\n",
                        "\n",
                        "           0       0.93      0.98      0.95      7303\n",
                        "           1       0.67      0.39      0.49       935\n",
                        "\n",
                        "    accuracy                           0.91      8238\n",
                        "   macro avg       0.80      0.68      0.72      8238\n",
                        "weighted avg       0.90      0.91      0.90      8238\n",
                        "\n"
                    ]
                }
            ],
            "source": [
                "from sklearn.metrics import accuracy_score, confusion_matrix, classification_report\n",
                "\n",
                "# Realizar predicciones\n",
                "y_pred = model.predict(X_test)\n",
                "\n",
                "# Evaluar el modelo\n",
                "accuracy = accuracy_score(y_test, y_pred)\n",
                "conf_matrix = confusion_matrix(y_test, y_pred)\n",
                "class_report = classification_report(y_test, y_pred)\n",
                "\n",
                "print(f\"Precisión del modelo: {accuracy:.2f}\")\n",
                "print(\"Matriz de confusión:\\n\", conf_matrix)\n",
                "print(\"Reporte de clasificación:\\n\", class_report)\n",
                "\n"
            ]
        },
        {
            "cell_type": "markdown",
            "metadata": {},
            "source": [
                "Optimización parametros Random Search"
            ]
        },
        {
            "cell_type": "code",
            "execution_count": 7,
            "metadata": {},
            "outputs": [
                {
                    "name": "stdout",
                    "output_type": "stream",
                    "text": [
                        "Fitting 3 folds for each of 10 candidates, totalling 30 fits\n"
                    ]
                },
                {
                    "name": "stderr",
                    "output_type": "stream",
                    "text": [
                        "/home/vscode/.local/lib/python3.11/site-packages/sklearn/linear_model/_logistic.py:469: ConvergenceWarning: lbfgs failed to converge (status=1):\n",
                        "STOP: TOTAL NO. of ITERATIONS REACHED LIMIT.\n",
                        "\n",
                        "Increase the number of iterations (max_iter) or scale the data as shown in:\n",
                        "    https://scikit-learn.org/stable/modules/preprocessing.html\n",
                        "Please also refer to the documentation for alternative solver options:\n",
                        "    https://scikit-learn.org/stable/modules/linear_model.html#logistic-regression\n",
                        "  n_iter_i = _check_optimize_result(\n",
                        "/home/vscode/.local/lib/python3.11/site-packages/sklearn/linear_model/_logistic.py:469: ConvergenceWarning: lbfgs failed to converge (status=1):\n",
                        "STOP: TOTAL NO. of ITERATIONS REACHED LIMIT.\n",
                        "\n",
                        "Increase the number of iterations (max_iter) or scale the data as shown in:\n",
                        "    https://scikit-learn.org/stable/modules/preprocessing.html\n",
                        "Please also refer to the documentation for alternative solver options:\n",
                        "    https://scikit-learn.org/stable/modules/linear_model.html#logistic-regression\n",
                        "  n_iter_i = _check_optimize_result(\n",
                        "/home/vscode/.local/lib/python3.11/site-packages/sklearn/linear_model/_logistic.py:469: ConvergenceWarning: lbfgs failed to converge (status=1):\n",
                        "STOP: TOTAL NO. of ITERATIONS REACHED LIMIT.\n",
                        "\n",
                        "Increase the number of iterations (max_iter) or scale the data as shown in:\n",
                        "    https://scikit-learn.org/stable/modules/preprocessing.html\n",
                        "Please also refer to the documentation for alternative solver options:\n",
                        "    https://scikit-learn.org/stable/modules/linear_model.html#logistic-regression\n",
                        "  n_iter_i = _check_optimize_result(\n"
                    ]
                },
                {
                    "name": "stdout",
                    "output_type": "stream",
                    "text": [
                        "Mejores hiperparámetros: {'solver': 'lbfgs', 'penalty': 'l2', 'C': 2.782559402207126}\n"
                    ]
                },
                {
                    "name": "stderr",
                    "output_type": "stream",
                    "text": [
                        "/home/vscode/.local/lib/python3.11/site-packages/sklearn/linear_model/_logistic.py:469: ConvergenceWarning: lbfgs failed to converge (status=1):\n",
                        "STOP: TOTAL NO. of ITERATIONS REACHED LIMIT.\n",
                        "\n",
                        "Increase the number of iterations (max_iter) or scale the data as shown in:\n",
                        "    https://scikit-learn.org/stable/modules/preprocessing.html\n",
                        "Please also refer to the documentation for alternative solver options:\n",
                        "    https://scikit-learn.org/stable/modules/linear_model.html#logistic-regression\n",
                        "  n_iter_i = _check_optimize_result(\n"
                    ]
                }
            ],
            "source": [
                "from sklearn.model_selection import RandomizedSearchCV\n",
                "import numpy as np\n",
                "\n",
                "# Definir el espacio de hiperparámetros para RandomizedSearchCV\n",
                "random_param_grid = {\n",
                "    'C': np.logspace(-4, 4, 10),\n",
                "    'penalty': ['l2'], \n",
                "    'solver': ['newton-cg', 'lbfgs', 'liblinear', 'sag', 'saga']\n",
                "}\n",
                "\n",
                "# Crear el objeto RandomizedSearchCV\n",
                "random_search = RandomizedSearchCV(model, random_param_grid, n_iter=10, cv=3, scoring='accuracy', random_state=42, verbose=1)\n",
                "\n",
                "# Ajustar RandomizedSearchCV\n",
                "random_search.fit(X_train, y_train)\n",
                "\n",
                "# Mejores hiperparámetros y modelo\n",
                "print(\"Mejores hiperparámetros:\", random_search.best_params_)\n",
                "best_random_model = random_search.best_estimator_"
            ]
        },
        {
            "cell_type": "code",
            "execution_count": 8,
            "metadata": {},
            "outputs": [
                {
                    "name": "stdout",
                    "output_type": "stream",
                    "text": [
                        "Precisión del modelo de Random Search: 0.9101723719349356\n"
                    ]
                }
            ],
            "source": [
                "from sklearn.metrics import accuracy_score\n",
                "\n",
                "# Evaluar el modelo de Random Search\n",
                "y_pred_random = best_random_model.predict(X_test)\n",
                "print(\"Precisión del modelo de Random Search:\", accuracy_score(y_test, y_pred_random))\n"
            ]
        },
        {
            "cell_type": "code",
            "execution_count": 37,
            "metadata": {},
            "outputs": [
                {
                    "name": "stdout",
                    "output_type": "stream",
                    "text": [
                        "Modelo guardado exitosamente en firstmodel_model.sav\n"
                    ]
                }
            ],
            "source": [
                "import pickle\n",
                "\n",
                "# Guardar el modelo\n",
                "filename = 'firstmodel_model.sav'\n",
                "with open(filename, 'wb') as file:\n",
                "    pickle.dump(model, file)\n",
                "\n",
                "print(\"Modelo guardado exitosamente en\", filename)\n"
            ]
        }
    ],
    "metadata": {
        "kernelspec": {
            "display_name": "Python 3.8.13 64-bit ('3.8.13')",
            "language": "python",
            "name": "python3"
        },
        "language_info": {
            "codemirror_mode": {
                "name": "ipython",
                "version": 3
            },
            "file_extension": ".py",
            "mimetype": "text/x-python",
            "name": "python",
            "nbconvert_exporter": "python",
            "pygments_lexer": "ipython3",
            "version": "3.11.4"
        },
        "orig_nbformat": 4,
        "vscode": {
            "interpreter": {
                "hash": "110cc1dee26208153f2972f08a2ad52b6a56238dc66d48e87fb757ef2996db56"
            }
        }
    },
    "nbformat": 4,
    "nbformat_minor": 2
}
